{
 "cells": [
  {
   "cell_type": "code",
   "execution_count": 3,
   "metadata": {},
   "outputs": [],
   "source": [
    "# Building the CNN to classify Mood of a Person\n",
    "\n",
    "# Importing the Keras libraries and packages\n",
    "from keras.models import Sequential\n",
    "from keras.layers import Conv2D\n",
    "from keras.layers import MaxPooling2D\n",
    "from keras.layers import Flatten\n",
    "from keras.layers import Dense"
   ]
  },
  {
   "cell_type": "code",
   "execution_count": 4,
   "metadata": {},
   "outputs": [],
   "source": [
    "# Initialising the CNN\n",
    "classifier = Sequential()"
   ]
  },
  {
   "cell_type": "code",
   "execution_count": 5,
   "metadata": {},
   "outputs": [],
   "source": [
    "# Step 1 - Convolution - It is done to extract features by applying Filters.\n",
    "classifier.add(Conv2D(32, (3, 3), input_shape = (64, 64, 1), activation = 'relu'))\n",
    "\n",
    "# input_shape = (64, 64, 1) that we are considering 64, 64 images of greyscale, 1 represents greyscale image."
   ]
  },
  {
   "cell_type": "code",
   "execution_count": 6,
   "metadata": {},
   "outputs": [],
   "source": [
    "# Step 2 - Pooling  - It is done to reduce the number of nuerons in the Flattening Step.\n",
    "classifier.add(MaxPooling2D(pool_size = (2, 2)))"
   ]
  },
  {
   "cell_type": "code",
   "execution_count": 7,
   "metadata": {},
   "outputs": [],
   "source": [
    "# Adding a Second Convolutional layer\n",
    "classifier.add(Conv2D(32, (3, 3), activation = 'relu'))\n",
    "classifier.add(MaxPooling2D(pool_size = (2, 2)))"
   ]
  },
  {
   "cell_type": "code",
   "execution_count": 8,
   "metadata": {},
   "outputs": [],
   "source": [
    "# Step 3 - Flattening  - It is done to convert the Pooled Feature Map (2-D) into 1-D Input Array\n",
    "classifier.add(Flatten())"
   ]
  },
  {
   "cell_type": "code",
   "execution_count": 9,
   "metadata": {},
   "outputs": [],
   "source": [
    "# Step 4 - Full connection - It is building the simple ANN with the 1-D Feature Input (Get from Step-3).\n",
    "\n",
    "# Adding a Hidden Layer in the CNN.\n",
    "classifier.add(Dense(units = 128, activation = 'relu'))\n",
    "\n",
    "# Adding a Output Layer in the CNN.\n",
    "classifier.add(Dense(units = 4, activation = 'sigmoid'))"
   ]
  },
  {
   "cell_type": "code",
   "execution_count": 10,
   "metadata": {},
   "outputs": [],
   "source": [
    "# Compiling the CNN\n",
    "classifier.compile(optimizer = 'adam', loss = 'categorical_crossentropy', metrics = ['accuracy'])"
   ]
  },
  {
   "cell_type": "code",
   "execution_count": 11,
   "metadata": {},
   "outputs": [],
   "source": [
    "# Apply the ImageGenerator on the Image\n",
    "from keras.preprocessing.image import ImageDataGenerator\n",
    "\n",
    "train_datagen = ImageDataGenerator(rescale = 1./255,\n",
    "                                   shear_range = 0.2,\n",
    "                                   zoom_range = 0.2,\n",
    "                                   horizontal_flip = True)\n",
    "\n",
    "test_datagen = ImageDataGenerator(rescale = 1./255,\n",
    "                                   shear_range = 0.2,\n",
    "                                   zoom_range = 0.2,\n",
    "                                   horizontal_flip = True)"
   ]
  },
  {
   "cell_type": "code",
   "execution_count": 12,
   "metadata": {},
   "outputs": [
    {
     "name": "stdout",
     "output_type": "stream",
     "text": [
      "Found 415 images belonging to 4 classes.\n",
      "Found 4 images belonging to 4 classes.\n"
     ]
    }
   ],
   "source": [
    "# Getting the Data image from the directory.\n",
    "training_set = train_datagen.flow_from_directory('dataset/training_set',\n",
    "                                                 target_size = (64, 64),\n",
    "                                                 color_mode = 'grayscale',\n",
    "                                                 batch_size = 32,\n",
    "                                                 class_mode = 'categorical')\n",
    "\n",
    "test_set = test_datagen.flow_from_directory('dataset/test_set',\n",
    "                                                 target_size = (64, 64),\n",
    "                                                 color_mode = 'grayscale',\n",
    "                                                 class_mode = 'categorical')"
   ]
  },
  {
   "cell_type": "code",
   "execution_count": 13,
   "metadata": {},
   "outputs": [
    {
     "data": {
      "text/plain": [
       "{'angry': 0, 'happy': 1, 'neutral': 2, 'sad': 3}"
      ]
     },
     "execution_count": 13,
     "metadata": {},
     "output_type": "execute_result"
    }
   ],
   "source": [
    "training_set.class_indices      # To show the Label associated with each Output class."
   ]
  },
  {
   "cell_type": "code",
   "execution_count": 14,
   "metadata": {},
   "outputs": [
    {
     "name": "stdout",
     "output_type": "stream",
     "text": [
      "Model: \"sequential_1\"\n",
      "_________________________________________________________________\n",
      "Layer (type)                 Output Shape              Param #   \n",
      "=================================================================\n",
      "conv2d_1 (Conv2D)            (None, 62, 62, 32)        320       \n",
      "_________________________________________________________________\n",
      "max_pooling2d_1 (MaxPooling2 (None, 31, 31, 32)        0         \n",
      "_________________________________________________________________\n",
      "conv2d_2 (Conv2D)            (None, 29, 29, 32)        9248      \n",
      "_________________________________________________________________\n",
      "max_pooling2d_2 (MaxPooling2 (None, 14, 14, 32)        0         \n",
      "_________________________________________________________________\n",
      "flatten_1 (Flatten)          (None, 6272)              0         \n",
      "_________________________________________________________________\n",
      "dense_1 (Dense)              (None, 128)               802944    \n",
      "_________________________________________________________________\n",
      "dense_2 (Dense)              (None, 4)                 516       \n",
      "=================================================================\n",
      "Total params: 813,028\n",
      "Trainable params: 813,028\n",
      "Non-trainable params: 0\n",
      "_________________________________________________________________\n"
     ]
    }
   ],
   "source": [
    "classifier.summary()           # To show the summary of the Classifier."
   ]
  },
  {
   "cell_type": "code",
   "execution_count": 13,
   "metadata": {},
   "outputs": [
    {
     "name": "stdout",
     "output_type": "stream",
     "text": [
      "Epoch 1/15\n",
      "415/415 [==============================] - 69s 165ms/step - loss: 0.6349 - accuracy: 0.7311 - val_loss: 0.4031 - val_accuracy: 0.6250\n",
      "Epoch 2/15\n",
      "415/415 [==============================] - 67s 161ms/step - loss: 0.2495 - accuracy: 0.9065 - val_loss: 0.0753 - val_accuracy: 1.0000\n",
      "Epoch 3/15\n",
      "415/415 [==============================] - 67s 162ms/step - loss: 0.1348 - accuracy: 0.9528 - val_loss: 0.0500 - val_accuracy: 1.0000\n",
      "Epoch 4/15\n",
      "415/415 [==============================] - 67s 161ms/step - loss: 0.0730 - accuracy: 0.9736 - val_loss: 0.1144 - val_accuracy: 1.0000\n",
      "Epoch 5/15\n",
      "415/415 [==============================] - 68s 164ms/step - loss: 0.0490 - accuracy: 0.9820 - val_loss: 0.0133 - val_accuracy: 1.0000\n",
      "Epoch 6/15\n",
      "415/415 [==============================] - 66s 159ms/step - loss: 0.0407 - accuracy: 0.9851 - val_loss: 0.0200 - val_accuracy: 1.0000\n",
      "Epoch 7/15\n",
      "415/415 [==============================] - 82s 198ms/step - loss: 0.0313 - accuracy: 0.9886 - val_loss: 0.0040 - val_accuracy: 1.0000\n",
      "Epoch 8/15\n",
      "415/415 [==============================] - 84s 202ms/step - loss: 0.0160 - accuracy: 0.9941 - val_loss: 6.0125e-04 - val_accuracy: 1.0000\n",
      "Epoch 9/15\n",
      "415/415 [==============================] - 84s 203ms/step - loss: 0.0265 - accuracy: 0.9906 - val_loss: 0.0036 - val_accuracy: 1.0000\n",
      "Epoch 10/15\n",
      "415/415 [==============================] - 85s 206ms/step - loss: 0.0178 - accuracy: 0.9933 - val_loss: 0.0022 - val_accuracy: 1.0000\n",
      "Epoch 11/15\n",
      "415/415 [==============================] - 84s 203ms/step - loss: 0.0232 - accuracy: 0.9913 - val_loss: 5.1754e-04 - val_accuracy: 1.0000\n",
      "Epoch 12/15\n",
      "415/415 [==============================] - 83s 200ms/step - loss: 0.0149 - accuracy: 0.9937 - val_loss: 7.2756e-05 - val_accuracy: 1.0000\n",
      "Epoch 13/15\n",
      "415/415 [==============================] - 89s 215ms/step - loss: 0.0134 - accuracy: 0.9942 - val_loss: 1.6939e-04 - val_accuracy: 1.0000\n",
      "Epoch 14/15\n",
      "415/415 [==============================] - 89s 215ms/step - loss: 0.0086 - accuracy: 0.9958 - val_loss: 0.0071 - val_accuracy: 1.0000\n",
      "Epoch 15/15\n",
      "415/415 [==============================] - 88s 211ms/step - loss: 0.0160 - accuracy: 0.9935 - val_loss: 6.9255e-05 - val_accuracy: 1.0000\n"
     ]
    }
   ],
   "source": [
    "# Fitting the CNN to the images\n",
    "model_history = classifier.fit_generator(training_set,\n",
    "                         steps_per_epoch = 415,\n",
    "                         epochs = 15,\n",
    "                         validation_data = test_set,\n",
    "                         validation_steps = 4)"
   ]
  },
  {
   "cell_type": "code",
   "execution_count": 14,
   "metadata": {},
   "outputs": [
    {
     "name": "stdout",
     "output_type": "stream",
     "text": [
      "Saved model to disk\n"
     ]
    }
   ],
   "source": [
    "# Save Model on the Disk\n",
    "\n",
    "# serialize model to JSON\n",
    "classifier_json = classifier.to_json()\n",
    "with open('classifier.json', 'w') as json_file:\n",
    "    json_file.write(classifier_json)\n",
    "# serialize weights to HDF5\n",
    "classifier.save_weights(\"classifier.h5\")\n",
    "print(\"Saved model to disk\")"
   ]
  },
  {
   "cell_type": "code",
   "execution_count": 15,
   "metadata": {},
   "outputs": [
    {
     "name": "stdout",
     "output_type": "stream",
     "text": [
      "Loaded model from disk\n"
     ]
    }
   ],
   "source": [
    "# Retrieving the Saved Model\n",
    "from keras.models import model_from_json\n",
    "\n",
    "# load json and create model\n",
    "json_file = open('classifier.json', 'r')\n",
    "loaded_model_json = json_file.read()\n",
    "json_file.close()\n",
    "classifier = model_from_json(loaded_model_json)\n",
    "# load weights into new model\n",
    "classifier.load_weights(\"classifier.h5\")\n",
    "print(\"Loaded model from disk\")"
   ]
  },
  {
   "cell_type": "code",
   "execution_count": 16,
   "metadata": {},
   "outputs": [
    {
     "name": "stdout",
     "output_type": "stream",
     "text": [
      "<class 'numpy.ndarray'> ----------- (32, 64, 64, 1) (32, 4)\n"
     ]
    }
   ],
   "source": [
    "X_train, Y_train = training_set.next()    # Converting a DirectoryIterator to numpy array\n",
    "print(type(X_train), \"-----------\", X_train.shape, Y_train.shape)"
   ]
  },
  {
   "cell_type": "code",
   "execution_count": 17,
   "metadata": {},
   "outputs": [
    {
     "name": "stdout",
     "output_type": "stream",
     "text": [
      "(32, 64, 64, 1)\n"
     ]
    }
   ],
   "source": [
    "X_train = X_train / 255.0  # To convert it into 255 pixel value that is grey scale image. \n",
    "print(X_train.shape)"
   ]
  },
  {
   "cell_type": "code",
   "execution_count": 18,
   "metadata": {},
   "outputs": [
    {
     "data": {
      "text/plain": [
       "(64, 64, 1)"
      ]
     },
     "execution_count": 18,
     "metadata": {},
     "output_type": "execute_result"
    }
   ],
   "source": [
    "X_train[0].shape"
   ]
  },
  {
   "cell_type": "code",
   "execution_count": 19,
   "metadata": {},
   "outputs": [
    {
     "name": "stdout",
     "output_type": "stream",
     "text": [
      "(32, 64, 64, 1)\n"
     ]
    }
   ],
   "source": [
    "X_train = X_train.reshape(len(X_train), 64, 64, 1)\n",
    "print(X_train.shape)"
   ]
  },
  {
   "cell_type": "code",
   "execution_count": 21,
   "metadata": {
    "scrolled": true
   },
   "outputs": [
    {
     "name": "stdout",
     "output_type": "stream",
     "text": [
      "{'angry': 0, 'happy': 1, 'neutral': 2, 'sad': 3}\n",
      "[0. 0. 0. 1.]\n"
     ]
    },
    {
     "data": {
      "image/png": "[encoded data removed]",
      "text/plain": [
       "<Figure size 432x288 with 1 Axes>"
      ]
     },
     "metadata": {
      "needs_background": "light"
     },
     "output_type": "display_data"
    }
   ],
   "source": [
    "# Showing the Training Image\n",
    "\n",
    "import numpy as np\n",
    "from keras.preprocessing import image\n",
    "import matplotlib.pyplot as plt\n",
    "\n",
    "print(training_set.class_indices)\n",
    "\n",
    "for img in range(1, 2):\n",
    "    test_image = image.img_to_array(X_train[img])\n",
    "#     print(test_image.shape)\n",
    "    \n",
    "    test_image = np.reshape(test_image, (64, 64))       # test_image to be reshaped with (64, 64)\n",
    "#     print(test_image.shape)\n",
    "    \n",
    "    plt.imshow(test_image, cmap='gray', interpolation='none')\n",
    "    print(Y_train[img])"
   ]
  },
  {
   "cell_type": "code",
   "execution_count": 22,
   "metadata": {},
   "outputs": [
    {
     "name": "stdout",
     "output_type": "stream",
     "text": [
      "(4, 64, 64, 1)\n",
      "[[1. 0. 0. 0.]\n",
      " [0. 0. 1. 0.]\n",
      " [0. 0. 0. 1.]\n",
      " [0. 1. 0. 0.]]\n"
     ]
    },
    {
     "data": {
      "text/plain": [
       "{'angry': 0, 'happy': 1, 'neutral': 2, 'sad': 3}"
      ]
     },
     "execution_count": 22,
     "metadata": {},
     "output_type": "execute_result"
    }
   ],
   "source": [
    "X_test, Y_test = test_set.next()\n",
    "X_test = X_test.reshape(len(X_test), 64, 64, 1)\n",
    "print(X_test.shape)\n",
    "print(Y_test)\n",
    "training_set.class_indices"
   ]
  },
  {
   "cell_type": "code",
   "execution_count": 23,
   "metadata": {},
   "outputs": [
    {
     "name": "stdout",
     "output_type": "stream",
     "text": [
      "Actual:  Angry and Predicted:  Angry\n",
      "Actual:  Neutral and Predicted:  Neutral\n",
      "Actual:  Sad and Predicted:  Sad\n",
      "Actual:  Happy and Predicted:  Happy\n"
     ]
    }
   ],
   "source": [
    "# Test Set Results----------\n",
    "class_labels = ['Angry','Happy','Neutral','Sad']\n",
    "\n",
    "for img in range(X_test.shape[0]):\n",
    "    test_image = X_test[img]\n",
    "#     print(\"Img\", img, test_image.shape)\n",
    "    test_image = test_image.reshape((1, ) + test_image.shape)\n",
    "#     print(\"Img\", img, test_image.shape)\n",
    "    result = classifier.predict(test_image)[0]\n",
    "    predicted = class_labels[result.argmax()]\n",
    "    print(\"Actual: \", class_labels[Y_test[img].argmax()], \"and Predicted: \", predicted)"
   ]
  },
  {
   "cell_type": "code",
   "execution_count": 24,
   "metadata": {},
   "outputs": [
    {
     "data": {
      "image/png": "[encoded data removed]",
      "text/plain": [
       "<Figure size 432x288 with 1 Axes>"
      ]
     },
     "metadata": {},
     "output_type": "display_data"
    }
   ],
   "source": [
    "# Making a new Single prediction\n",
    "import numpy as np\n",
    "from keras.preprocessing import image\n",
    "import matplotlib.pyplot as plt\n",
    "\n",
    "org_image = image.load_img('dataset/single_prediction/Image1.jpg', target_size = (64, 64), color_mode = \"grayscale\")\n",
    "test_image = image.img_to_array(org_image)\n",
    "test_image = test_image.reshape((1, ) + test_image.shape)\n",
    "result = classifier.predict(test_image)[0]\n",
    "predicted = class_labels[result.argmax()]\n",
    "# print(predicted)\n",
    "\n",
    "plt.xticks([])\n",
    "plt.yticks([])\n",
    "    \n",
    "plt.title(\" You seems to be {} \".format(predicted))\n",
    "plt.show(plt.imshow(org_image))"
   ]
  },
  {
   "cell_type": "code",
   "execution_count": 25,
   "metadata": {},
   "outputs": [
    {
     "data": {
      "image/png": "[encoded data removed]",
      "text/plain": [
       "<Figure size 432x288 with 1 Axes>"
      ]
     },
     "metadata": {},
     "output_type": "display_data"
    }
   ],
   "source": [
    "# Making a new Single prediction\n",
    "import numpy as np\n",
    "from keras.preprocessing import image\n",
    "import matplotlib.pyplot as plt\n",
    "\n",
    "org_image = image.load_img('dataset/single_prediction/Image2.jpg', target_size = (64, 64), color_mode = \"grayscale\")\n",
    "test_image = image.img_to_array(org_image)\n",
    "test_image = test_image.reshape((1, ) + test_image.shape)\n",
    "result = classifier.predict(test_image)[0]\n",
    "predicted = class_labels[result.argmax()]\n",
    "# print(predicted)\n",
    "\n",
    "plt.xticks([])\n",
    "plt.yticks([])\n",
    "    \n",
    "plt.title(\" You seems to be {} \".format(predicted))\n",
    "plt.show(plt.imshow(org_image))"
   ]
  },
  {
   "cell_type": "code",
   "execution_count": 26,
   "metadata": {},
   "outputs": [],
   "source": [
    "# Making a new Single prediction\n",
    "# import numpy as np\n",
    "# from keras.preprocessing import image\n",
    "# import matplotlib.pyplot as plt\n",
    "\n",
    "# org_image = image.load_img('dataset/single_prediction/Image3.jpg', target_size = (64, 64), color_mode = \"grayscale\")\n",
    "# test_image = image.img_to_array(org_image)\n",
    "# test_image = test_image.reshape((1, ) + test_image.shape)\n",
    "# result = classifier.predict(test_image)[0]\n",
    "# predicted = class_labels[result.argmax()]\n",
    "# # print(predicted)\n",
    "\n",
    "# plt.xticks([])\n",
    "# plt.yticks([])\n",
    "    \n",
    "# plt.title(\" You seems to be {} \".format(predicted))\n",
    "# plt.show(plt.imshow(org_image))"
   ]
  },
  {
   "cell_type": "code",
   "execution_count": 27,
   "metadata": {},
   "outputs": [],
   "source": [
    "# # Getting Image predicted through Webcam\n",
    "\n",
    "# from keras.models import load_model\n",
    "# from time import sleep\n",
    "# from keras.preprocessing.image import img_to_array\n",
    "# from keras.preprocessing import image\n",
    "# import cv2\n",
    "# import numpy as np\n",
    "\n",
    "# face_classifier = cv2.CascadeClassifier('haarcascade_frontalface_default.xml')\n",
    "# cap = cv2.VideoCapture(0)   # 0 for video capture and 1 for single Image capture\n",
    "\n",
    "# class_labels = ['Angry','Happy','Neutral','Sad']\n",
    "\n",
    "# while True:\n",
    "#     ret, frame = cap.read()    # Grab a single frame of video\n",
    "#     labels = []\n",
    "#     gray = cv2.cvtColor(frame,cv2.COLOR_BGR2GRAY)\n",
    "#     faces = face_classifier.detectMultiScale(gray, 1.3, 5)\n",
    "# #     print(type(faces), faces)\n",
    "\n",
    "#     for (x,y,w,h) in faces:\n",
    "#         cv2.rectangle(frame,(x,y),(x+w,y+h),(255,0,0),2)\n",
    "#         img_gray = gray[y:y+h,x:x+w]\n",
    "#         img_gray = cv2.resize(img_gray,(64, 64),interpolation = cv2.INTER_AREA)\n",
    "# #         print(type(img_gray), \"------------\" , img_gray.shape)\n",
    "    \n",
    "#         if np.sum([img_gray]) != 0:\n",
    "#             img = img_gray.astype('float') / 255.0\n",
    "#             img_arr = img_to_array(img)\n",
    "#             img_arr = np.expand_dims(img_arr, axis = 0)\n",
    "#     #         print(\"Image array is: \", img_arr.shape)\n",
    "\n",
    "# #             print(img_arr.shape, \"----------------\")        # Make a prediction, then lookup the class\n",
    "#             predicted = classifier.predict(img_arr)[0]\n",
    "#             label = class_labels[predicted.argmax()]\n",
    "#             print(\"You seems to be: \", label)\n",
    "\n",
    "#             label_position = (x,y)\n",
    "#             cv2.putText(frame,label,label_position,cv2.FONT_HERSHEY_SIMPLEX, 2, (0, 255, 0), 3)\n",
    "\n",
    "#         else:\n",
    "#             cv2.putText(frame,'No Face Found', (20,60), cv2.FONT_HERSHEY_SIMPLEX, 2, (0, 255, 0), 3)\n",
    "            \n",
    "#     cv2.imshow('Face Emotion Detector',frame)\n",
    "#     if cv2.waitKey(1) & 0xFF == ord('q'):\n",
    "#         break\n",
    "\n",
    "# cap.release()\n",
    "# cv2.destroyAllWindows()"
   ]
  },
  {
   "cell_type": "code",
   "execution_count": null,
   "metadata": {},
   "outputs": [],
   "source": []
  }
 ],
 "metadata": {
  "kernelspec": {
   "display_name": "Python 3",
   "language": "python",
   "name": "python3"
  },
  "language_info": {
   "codemirror_mode": {
    "name": "ipython",
    "version": 3
   },
   "file_extension": ".py",
   "mimetype": "text/x-python",
   "name": "python",
   "nbconvert_exporter": "python",
   "pygments_lexer": "ipython3",
   "version": "3.7.4"
  }
 },
 "nbformat": 4,
 "nbformat_minor": 2
}
